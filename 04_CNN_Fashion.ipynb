{
 "cells": [
  {
   "cell_type": "markdown",
   "id": "d16dd240-69a0-47d0-afcf-0f4e10f25b52",
   "metadata": {},
   "source": [
    "# CNN Image Classification Practice with Fashion MNIST Dataset\n",
    "### (Keras | Tensorflow)\n",
    "\n",
    "#### GOAL: \n",
    "Build an image classifier with Keras and Convolutional Neural Networks for the Fashion MNIST dataset. This data set includes 10 labels of different clothing types with 28 by 28 *grayscale* images. There is a training set of 60,000 images and 10,000 test images.\n",
    "\n",
    "_\n",
    "\n",
    "**Práctica de clasificación de imágenes con CNN y el Fashion MNIST Dataset**\n",
    "\n",
    "**OBJETIVO:**\n",
    "\n",
    "Crar un clasificador de imágenes con Keras y redes neuronales convolucionales para el dataset Fashion MNIST. Este set incluye 10 etiquetas de diferentes tipos de ropa con imágenes de 28 x 28 *en escala de grises*. Hay un conjunto de entrenamiento de 60,000 imágenes y 10,000 imágenes de prueba.\n",
    "\n",
    "\n",
    "    Label\tDescription\n",
    "    0\t    T-shirt/top\n",
    "    1\t    Trouser\n",
    "    2\t    Pullover\n",
    "    3\t    Dress\n",
    "    4\t    Coat\n",
    "    5\t    Sandal\n",
    "    6\t    Shirt\n",
    "    7\t    Sneaker\n",
    "    8\t    Bag\n",
    "    9\t    Ankle boot\n",
    "    "
   ]
  },
  {
   "cell_type": "markdown",
   "id": "c9a66df2-c261-405a-a23c-5e6cb271cf5e",
   "metadata": {},
   "source": [
    "---\n",
    "\n",
    "## Data Exploration | Exploración de los datos"
   ]
  },
  {
   "cell_type": "code",
   "execution_count": 1,
   "id": "f4037519-bf6c-4e89-b6da-ba9a5f1d5513",
   "metadata": {},
   "outputs": [],
   "source": [
    "import numpy as np\n",
    "import pandas as pd\n",
    "import matplotlib.pyplot as plt\n",
    "import seaborn as sns\n",
    "from tensorflow.keras.datasets import fashion_mnist"
   ]
  },
  {
   "cell_type": "code",
   "execution_count": 2,
   "id": "43c80ecc-056c-4400-b698-4b273598a054",
   "metadata": {},
   "outputs": [],
   "source": [
    "(x_train, y_train), (x_test, y_test) = fashion_mnist.load_data()"
   ]
  },
  {
   "cell_type": "code",
   "execution_count": 3,
   "id": "3adfa70f-52b2-4f9c-8a1c-5a40c72f9ab9",
   "metadata": {},
   "outputs": [
    {
     "data": {
      "text/plain": [
       "(60000, 28, 28)"
      ]
     },
     "execution_count": 3,
     "metadata": {},
     "output_type": "execute_result"
    }
   ],
   "source": [
    "x_train.shape"
   ]
  },
  {
   "cell_type": "code",
   "execution_count": 4,
   "id": "b8c9fad6-de76-46d2-8765-439781ee8f29",
   "metadata": {},
   "outputs": [
    {
     "data": {
      "text/plain": [
       "(10000, 28, 28)"
      ]
     },
     "execution_count": 4,
     "metadata": {},
     "output_type": "execute_result"
    }
   ],
   "source": [
    "x_test.shape"
   ]
  },
  {
   "cell_type": "code",
   "execution_count": 5,
   "id": "4845e2d7-286a-4a8a-9383-711a1c3e0dcc",
   "metadata": {},
   "outputs": [],
   "source": [
    "single_image = x_train[0]"
   ]
  },
  {
   "cell_type": "code",
   "execution_count": 6,
   "id": "fc14ba0a-ced1-4dc0-86d9-c265665334b7",
   "metadata": {},
   "outputs": [
    {
     "data": {
      "text/html": [
       "<div>\n",
       "<style scoped>\n",
       "    .dataframe tbody tr th:only-of-type {\n",
       "        vertical-align: middle;\n",
       "    }\n",
       "\n",
       "    .dataframe tbody tr th {\n",
       "        vertical-align: top;\n",
       "    }\n",
       "\n",
       "    .dataframe thead th {\n",
       "        text-align: right;\n",
       "    }\n",
       "</style>\n",
       "<table border=\"1\" class=\"dataframe\">\n",
       "  <thead>\n",
       "    <tr style=\"text-align: right;\">\n",
       "      <th></th>\n",
       "      <th>0</th>\n",
       "      <th>1</th>\n",
       "      <th>2</th>\n",
       "      <th>3</th>\n",
       "      <th>4</th>\n",
       "      <th>5</th>\n",
       "      <th>6</th>\n",
       "      <th>7</th>\n",
       "      <th>8</th>\n",
       "      <th>9</th>\n",
       "      <th>...</th>\n",
       "      <th>18</th>\n",
       "      <th>19</th>\n",
       "      <th>20</th>\n",
       "      <th>21</th>\n",
       "      <th>22</th>\n",
       "      <th>23</th>\n",
       "      <th>24</th>\n",
       "      <th>25</th>\n",
       "      <th>26</th>\n",
       "      <th>27</th>\n",
       "    </tr>\n",
       "  </thead>\n",
       "  <tbody>\n",
       "    <tr>\n",
       "      <th>0</th>\n",
       "      <td>0</td>\n",
       "      <td>0</td>\n",
       "      <td>0</td>\n",
       "      <td>0</td>\n",
       "      <td>0</td>\n",
       "      <td>0</td>\n",
       "      <td>0</td>\n",
       "      <td>0</td>\n",
       "      <td>0</td>\n",
       "      <td>0</td>\n",
       "      <td>...</td>\n",
       "      <td>0</td>\n",
       "      <td>0</td>\n",
       "      <td>0</td>\n",
       "      <td>0</td>\n",
       "      <td>0</td>\n",
       "      <td>0</td>\n",
       "      <td>0</td>\n",
       "      <td>0</td>\n",
       "      <td>0</td>\n",
       "      <td>0</td>\n",
       "    </tr>\n",
       "    <tr>\n",
       "      <th>1</th>\n",
       "      <td>0</td>\n",
       "      <td>0</td>\n",
       "      <td>0</td>\n",
       "      <td>0</td>\n",
       "      <td>0</td>\n",
       "      <td>0</td>\n",
       "      <td>0</td>\n",
       "      <td>0</td>\n",
       "      <td>0</td>\n",
       "      <td>0</td>\n",
       "      <td>...</td>\n",
       "      <td>0</td>\n",
       "      <td>0</td>\n",
       "      <td>0</td>\n",
       "      <td>0</td>\n",
       "      <td>0</td>\n",
       "      <td>0</td>\n",
       "      <td>0</td>\n",
       "      <td>0</td>\n",
       "      <td>0</td>\n",
       "      <td>0</td>\n",
       "    </tr>\n",
       "    <tr>\n",
       "      <th>2</th>\n",
       "      <td>0</td>\n",
       "      <td>0</td>\n",
       "      <td>0</td>\n",
       "      <td>0</td>\n",
       "      <td>0</td>\n",
       "      <td>0</td>\n",
       "      <td>0</td>\n",
       "      <td>0</td>\n",
       "      <td>0</td>\n",
       "      <td>0</td>\n",
       "      <td>...</td>\n",
       "      <td>0</td>\n",
       "      <td>0</td>\n",
       "      <td>0</td>\n",
       "      <td>0</td>\n",
       "      <td>0</td>\n",
       "      <td>0</td>\n",
       "      <td>0</td>\n",
       "      <td>0</td>\n",
       "      <td>0</td>\n",
       "      <td>0</td>\n",
       "    </tr>\n",
       "    <tr>\n",
       "      <th>3</th>\n",
       "      <td>0</td>\n",
       "      <td>0</td>\n",
       "      <td>0</td>\n",
       "      <td>0</td>\n",
       "      <td>0</td>\n",
       "      <td>0</td>\n",
       "      <td>0</td>\n",
       "      <td>0</td>\n",
       "      <td>0</td>\n",
       "      <td>0</td>\n",
       "      <td>...</td>\n",
       "      <td>0</td>\n",
       "      <td>1</td>\n",
       "      <td>4</td>\n",
       "      <td>0</td>\n",
       "      <td>0</td>\n",
       "      <td>0</td>\n",
       "      <td>0</td>\n",
       "      <td>1</td>\n",
       "      <td>1</td>\n",
       "      <td>0</td>\n",
       "    </tr>\n",
       "    <tr>\n",
       "      <th>4</th>\n",
       "      <td>0</td>\n",
       "      <td>0</td>\n",
       "      <td>0</td>\n",
       "      <td>0</td>\n",
       "      <td>0</td>\n",
       "      <td>0</td>\n",
       "      <td>0</td>\n",
       "      <td>0</td>\n",
       "      <td>0</td>\n",
       "      <td>0</td>\n",
       "      <td>...</td>\n",
       "      <td>54</td>\n",
       "      <td>0</td>\n",
       "      <td>0</td>\n",
       "      <td>0</td>\n",
       "      <td>1</td>\n",
       "      <td>3</td>\n",
       "      <td>4</td>\n",
       "      <td>0</td>\n",
       "      <td>0</td>\n",
       "      <td>3</td>\n",
       "    </tr>\n",
       "    <tr>\n",
       "      <th>5</th>\n",
       "      <td>0</td>\n",
       "      <td>0</td>\n",
       "      <td>0</td>\n",
       "      <td>0</td>\n",
       "      <td>0</td>\n",
       "      <td>0</td>\n",
       "      <td>0</td>\n",
       "      <td>0</td>\n",
       "      <td>0</td>\n",
       "      <td>0</td>\n",
       "      <td>...</td>\n",
       "      <td>144</td>\n",
       "      <td>123</td>\n",
       "      <td>23</td>\n",
       "      <td>0</td>\n",
       "      <td>0</td>\n",
       "      <td>0</td>\n",
       "      <td>0</td>\n",
       "      <td>12</td>\n",
       "      <td>10</td>\n",
       "      <td>0</td>\n",
       "    </tr>\n",
       "    <tr>\n",
       "      <th>6</th>\n",
       "      <td>0</td>\n",
       "      <td>0</td>\n",
       "      <td>0</td>\n",
       "      <td>0</td>\n",
       "      <td>0</td>\n",
       "      <td>0</td>\n",
       "      <td>0</td>\n",
       "      <td>0</td>\n",
       "      <td>0</td>\n",
       "      <td>0</td>\n",
       "      <td>...</td>\n",
       "      <td>107</td>\n",
       "      <td>156</td>\n",
       "      <td>161</td>\n",
       "      <td>109</td>\n",
       "      <td>64</td>\n",
       "      <td>23</td>\n",
       "      <td>77</td>\n",
       "      <td>130</td>\n",
       "      <td>72</td>\n",
       "      <td>15</td>\n",
       "    </tr>\n",
       "    <tr>\n",
       "      <th>7</th>\n",
       "      <td>0</td>\n",
       "      <td>0</td>\n",
       "      <td>0</td>\n",
       "      <td>0</td>\n",
       "      <td>0</td>\n",
       "      <td>0</td>\n",
       "      <td>0</td>\n",
       "      <td>0</td>\n",
       "      <td>0</td>\n",
       "      <td>0</td>\n",
       "      <td>...</td>\n",
       "      <td>216</td>\n",
       "      <td>163</td>\n",
       "      <td>127</td>\n",
       "      <td>121</td>\n",
       "      <td>122</td>\n",
       "      <td>146</td>\n",
       "      <td>141</td>\n",
       "      <td>88</td>\n",
       "      <td>172</td>\n",
       "      <td>66</td>\n",
       "    </tr>\n",
       "    <tr>\n",
       "      <th>8</th>\n",
       "      <td>0</td>\n",
       "      <td>0</td>\n",
       "      <td>0</td>\n",
       "      <td>0</td>\n",
       "      <td>0</td>\n",
       "      <td>0</td>\n",
       "      <td>0</td>\n",
       "      <td>0</td>\n",
       "      <td>0</td>\n",
       "      <td>1</td>\n",
       "      <td>...</td>\n",
       "      <td>223</td>\n",
       "      <td>223</td>\n",
       "      <td>215</td>\n",
       "      <td>213</td>\n",
       "      <td>164</td>\n",
       "      <td>127</td>\n",
       "      <td>123</td>\n",
       "      <td>196</td>\n",
       "      <td>229</td>\n",
       "      <td>0</td>\n",
       "    </tr>\n",
       "    <tr>\n",
       "      <th>9</th>\n",
       "      <td>0</td>\n",
       "      <td>0</td>\n",
       "      <td>0</td>\n",
       "      <td>0</td>\n",
       "      <td>0</td>\n",
       "      <td>0</td>\n",
       "      <td>0</td>\n",
       "      <td>0</td>\n",
       "      <td>0</td>\n",
       "      <td>0</td>\n",
       "      <td>...</td>\n",
       "      <td>235</td>\n",
       "      <td>227</td>\n",
       "      <td>224</td>\n",
       "      <td>222</td>\n",
       "      <td>224</td>\n",
       "      <td>221</td>\n",
       "      <td>223</td>\n",
       "      <td>245</td>\n",
       "      <td>173</td>\n",
       "      <td>0</td>\n",
       "    </tr>\n",
       "    <tr>\n",
       "      <th>10</th>\n",
       "      <td>0</td>\n",
       "      <td>0</td>\n",
       "      <td>0</td>\n",
       "      <td>0</td>\n",
       "      <td>0</td>\n",
       "      <td>0</td>\n",
       "      <td>0</td>\n",
       "      <td>0</td>\n",
       "      <td>0</td>\n",
       "      <td>0</td>\n",
       "      <td>...</td>\n",
       "      <td>180</td>\n",
       "      <td>212</td>\n",
       "      <td>210</td>\n",
       "      <td>211</td>\n",
       "      <td>213</td>\n",
       "      <td>223</td>\n",
       "      <td>220</td>\n",
       "      <td>243</td>\n",
       "      <td>202</td>\n",
       "      <td>0</td>\n",
       "    </tr>\n",
       "    <tr>\n",
       "      <th>11</th>\n",
       "      <td>0</td>\n",
       "      <td>0</td>\n",
       "      <td>0</td>\n",
       "      <td>0</td>\n",
       "      <td>0</td>\n",
       "      <td>0</td>\n",
       "      <td>0</td>\n",
       "      <td>0</td>\n",
       "      <td>0</td>\n",
       "      <td>1</td>\n",
       "      <td>...</td>\n",
       "      <td>169</td>\n",
       "      <td>227</td>\n",
       "      <td>208</td>\n",
       "      <td>218</td>\n",
       "      <td>224</td>\n",
       "      <td>212</td>\n",
       "      <td>226</td>\n",
       "      <td>197</td>\n",
       "      <td>209</td>\n",
       "      <td>52</td>\n",
       "    </tr>\n",
       "    <tr>\n",
       "      <th>12</th>\n",
       "      <td>0</td>\n",
       "      <td>0</td>\n",
       "      <td>0</td>\n",
       "      <td>0</td>\n",
       "      <td>0</td>\n",
       "      <td>0</td>\n",
       "      <td>0</td>\n",
       "      <td>0</td>\n",
       "      <td>0</td>\n",
       "      <td>0</td>\n",
       "      <td>...</td>\n",
       "      <td>198</td>\n",
       "      <td>221</td>\n",
       "      <td>215</td>\n",
       "      <td>213</td>\n",
       "      <td>222</td>\n",
       "      <td>220</td>\n",
       "      <td>245</td>\n",
       "      <td>119</td>\n",
       "      <td>167</td>\n",
       "      <td>56</td>\n",
       "    </tr>\n",
       "    <tr>\n",
       "      <th>13</th>\n",
       "      <td>0</td>\n",
       "      <td>0</td>\n",
       "      <td>0</td>\n",
       "      <td>0</td>\n",
       "      <td>0</td>\n",
       "      <td>0</td>\n",
       "      <td>0</td>\n",
       "      <td>0</td>\n",
       "      <td>0</td>\n",
       "      <td>4</td>\n",
       "      <td>...</td>\n",
       "      <td>232</td>\n",
       "      <td>213</td>\n",
       "      <td>218</td>\n",
       "      <td>223</td>\n",
       "      <td>234</td>\n",
       "      <td>217</td>\n",
       "      <td>217</td>\n",
       "      <td>209</td>\n",
       "      <td>92</td>\n",
       "      <td>0</td>\n",
       "    </tr>\n",
       "    <tr>\n",
       "      <th>14</th>\n",
       "      <td>0</td>\n",
       "      <td>0</td>\n",
       "      <td>1</td>\n",
       "      <td>4</td>\n",
       "      <td>6</td>\n",
       "      <td>7</td>\n",
       "      <td>2</td>\n",
       "      <td>0</td>\n",
       "      <td>0</td>\n",
       "      <td>0</td>\n",
       "      <td>...</td>\n",
       "      <td>222</td>\n",
       "      <td>221</td>\n",
       "      <td>216</td>\n",
       "      <td>223</td>\n",
       "      <td>229</td>\n",
       "      <td>215</td>\n",
       "      <td>218</td>\n",
       "      <td>255</td>\n",
       "      <td>77</td>\n",
       "      <td>0</td>\n",
       "    </tr>\n",
       "    <tr>\n",
       "      <th>15</th>\n",
       "      <td>0</td>\n",
       "      <td>3</td>\n",
       "      <td>0</td>\n",
       "      <td>0</td>\n",
       "      <td>0</td>\n",
       "      <td>0</td>\n",
       "      <td>0</td>\n",
       "      <td>0</td>\n",
       "      <td>0</td>\n",
       "      <td>62</td>\n",
       "      <td>...</td>\n",
       "      <td>211</td>\n",
       "      <td>218</td>\n",
       "      <td>224</td>\n",
       "      <td>223</td>\n",
       "      <td>219</td>\n",
       "      <td>215</td>\n",
       "      <td>224</td>\n",
       "      <td>244</td>\n",
       "      <td>159</td>\n",
       "      <td>0</td>\n",
       "    </tr>\n",
       "    <tr>\n",
       "      <th>16</th>\n",
       "      <td>0</td>\n",
       "      <td>0</td>\n",
       "      <td>0</td>\n",
       "      <td>0</td>\n",
       "      <td>18</td>\n",
       "      <td>44</td>\n",
       "      <td>82</td>\n",
       "      <td>107</td>\n",
       "      <td>189</td>\n",
       "      <td>228</td>\n",
       "      <td>...</td>\n",
       "      <td>224</td>\n",
       "      <td>234</td>\n",
       "      <td>176</td>\n",
       "      <td>188</td>\n",
       "      <td>250</td>\n",
       "      <td>248</td>\n",
       "      <td>233</td>\n",
       "      <td>238</td>\n",
       "      <td>215</td>\n",
       "      <td>0</td>\n",
       "    </tr>\n",
       "    <tr>\n",
       "      <th>17</th>\n",
       "      <td>0</td>\n",
       "      <td>57</td>\n",
       "      <td>187</td>\n",
       "      <td>208</td>\n",
       "      <td>224</td>\n",
       "      <td>221</td>\n",
       "      <td>224</td>\n",
       "      <td>208</td>\n",
       "      <td>204</td>\n",
       "      <td>214</td>\n",
       "      <td>...</td>\n",
       "      <td>255</td>\n",
       "      <td>255</td>\n",
       "      <td>221</td>\n",
       "      <td>234</td>\n",
       "      <td>221</td>\n",
       "      <td>211</td>\n",
       "      <td>220</td>\n",
       "      <td>232</td>\n",
       "      <td>246</td>\n",
       "      <td>0</td>\n",
       "    </tr>\n",
       "    <tr>\n",
       "      <th>18</th>\n",
       "      <td>3</td>\n",
       "      <td>202</td>\n",
       "      <td>228</td>\n",
       "      <td>224</td>\n",
       "      <td>221</td>\n",
       "      <td>211</td>\n",
       "      <td>211</td>\n",
       "      <td>214</td>\n",
       "      <td>205</td>\n",
       "      <td>205</td>\n",
       "      <td>...</td>\n",
       "      <td>188</td>\n",
       "      <td>154</td>\n",
       "      <td>191</td>\n",
       "      <td>210</td>\n",
       "      <td>204</td>\n",
       "      <td>209</td>\n",
       "      <td>222</td>\n",
       "      <td>228</td>\n",
       "      <td>225</td>\n",
       "      <td>0</td>\n",
       "    </tr>\n",
       "    <tr>\n",
       "      <th>19</th>\n",
       "      <td>98</td>\n",
       "      <td>233</td>\n",
       "      <td>198</td>\n",
       "      <td>210</td>\n",
       "      <td>222</td>\n",
       "      <td>229</td>\n",
       "      <td>229</td>\n",
       "      <td>234</td>\n",
       "      <td>249</td>\n",
       "      <td>220</td>\n",
       "      <td>...</td>\n",
       "      <td>168</td>\n",
       "      <td>219</td>\n",
       "      <td>221</td>\n",
       "      <td>215</td>\n",
       "      <td>217</td>\n",
       "      <td>223</td>\n",
       "      <td>223</td>\n",
       "      <td>224</td>\n",
       "      <td>229</td>\n",
       "      <td>29</td>\n",
       "    </tr>\n",
       "    <tr>\n",
       "      <th>20</th>\n",
       "      <td>75</td>\n",
       "      <td>204</td>\n",
       "      <td>212</td>\n",
       "      <td>204</td>\n",
       "      <td>193</td>\n",
       "      <td>205</td>\n",
       "      <td>211</td>\n",
       "      <td>225</td>\n",
       "      <td>216</td>\n",
       "      <td>185</td>\n",
       "      <td>...</td>\n",
       "      <td>239</td>\n",
       "      <td>223</td>\n",
       "      <td>218</td>\n",
       "      <td>212</td>\n",
       "      <td>209</td>\n",
       "      <td>222</td>\n",
       "      <td>220</td>\n",
       "      <td>221</td>\n",
       "      <td>230</td>\n",
       "      <td>67</td>\n",
       "    </tr>\n",
       "    <tr>\n",
       "      <th>21</th>\n",
       "      <td>48</td>\n",
       "      <td>203</td>\n",
       "      <td>183</td>\n",
       "      <td>194</td>\n",
       "      <td>213</td>\n",
       "      <td>197</td>\n",
       "      <td>185</td>\n",
       "      <td>190</td>\n",
       "      <td>194</td>\n",
       "      <td>192</td>\n",
       "      <td>...</td>\n",
       "      <td>199</td>\n",
       "      <td>206</td>\n",
       "      <td>186</td>\n",
       "      <td>181</td>\n",
       "      <td>177</td>\n",
       "      <td>172</td>\n",
       "      <td>181</td>\n",
       "      <td>205</td>\n",
       "      <td>206</td>\n",
       "      <td>115</td>\n",
       "    </tr>\n",
       "    <tr>\n",
       "      <th>22</th>\n",
       "      <td>0</td>\n",
       "      <td>122</td>\n",
       "      <td>219</td>\n",
       "      <td>193</td>\n",
       "      <td>179</td>\n",
       "      <td>171</td>\n",
       "      <td>183</td>\n",
       "      <td>196</td>\n",
       "      <td>204</td>\n",
       "      <td>210</td>\n",
       "      <td>...</td>\n",
       "      <td>195</td>\n",
       "      <td>191</td>\n",
       "      <td>198</td>\n",
       "      <td>192</td>\n",
       "      <td>176</td>\n",
       "      <td>156</td>\n",
       "      <td>167</td>\n",
       "      <td>177</td>\n",
       "      <td>210</td>\n",
       "      <td>92</td>\n",
       "    </tr>\n",
       "    <tr>\n",
       "      <th>23</th>\n",
       "      <td>0</td>\n",
       "      <td>0</td>\n",
       "      <td>74</td>\n",
       "      <td>189</td>\n",
       "      <td>212</td>\n",
       "      <td>191</td>\n",
       "      <td>175</td>\n",
       "      <td>172</td>\n",
       "      <td>175</td>\n",
       "      <td>181</td>\n",
       "      <td>...</td>\n",
       "      <td>210</td>\n",
       "      <td>210</td>\n",
       "      <td>211</td>\n",
       "      <td>188</td>\n",
       "      <td>188</td>\n",
       "      <td>194</td>\n",
       "      <td>192</td>\n",
       "      <td>216</td>\n",
       "      <td>170</td>\n",
       "      <td>0</td>\n",
       "    </tr>\n",
       "    <tr>\n",
       "      <th>24</th>\n",
       "      <td>2</td>\n",
       "      <td>0</td>\n",
       "      <td>0</td>\n",
       "      <td>0</td>\n",
       "      <td>66</td>\n",
       "      <td>200</td>\n",
       "      <td>222</td>\n",
       "      <td>237</td>\n",
       "      <td>239</td>\n",
       "      <td>242</td>\n",
       "      <td>...</td>\n",
       "      <td>182</td>\n",
       "      <td>182</td>\n",
       "      <td>181</td>\n",
       "      <td>176</td>\n",
       "      <td>166</td>\n",
       "      <td>168</td>\n",
       "      <td>99</td>\n",
       "      <td>58</td>\n",
       "      <td>0</td>\n",
       "      <td>0</td>\n",
       "    </tr>\n",
       "    <tr>\n",
       "      <th>25</th>\n",
       "      <td>0</td>\n",
       "      <td>0</td>\n",
       "      <td>0</td>\n",
       "      <td>0</td>\n",
       "      <td>0</td>\n",
       "      <td>0</td>\n",
       "      <td>0</td>\n",
       "      <td>40</td>\n",
       "      <td>61</td>\n",
       "      <td>44</td>\n",
       "      <td>...</td>\n",
       "      <td>0</td>\n",
       "      <td>0</td>\n",
       "      <td>0</td>\n",
       "      <td>0</td>\n",
       "      <td>0</td>\n",
       "      <td>0</td>\n",
       "      <td>0</td>\n",
       "      <td>0</td>\n",
       "      <td>0</td>\n",
       "      <td>0</td>\n",
       "    </tr>\n",
       "    <tr>\n",
       "      <th>26</th>\n",
       "      <td>0</td>\n",
       "      <td>0</td>\n",
       "      <td>0</td>\n",
       "      <td>0</td>\n",
       "      <td>0</td>\n",
       "      <td>0</td>\n",
       "      <td>0</td>\n",
       "      <td>0</td>\n",
       "      <td>0</td>\n",
       "      <td>0</td>\n",
       "      <td>...</td>\n",
       "      <td>0</td>\n",
       "      <td>0</td>\n",
       "      <td>0</td>\n",
       "      <td>0</td>\n",
       "      <td>0</td>\n",
       "      <td>0</td>\n",
       "      <td>0</td>\n",
       "      <td>0</td>\n",
       "      <td>0</td>\n",
       "      <td>0</td>\n",
       "    </tr>\n",
       "    <tr>\n",
       "      <th>27</th>\n",
       "      <td>0</td>\n",
       "      <td>0</td>\n",
       "      <td>0</td>\n",
       "      <td>0</td>\n",
       "      <td>0</td>\n",
       "      <td>0</td>\n",
       "      <td>0</td>\n",
       "      <td>0</td>\n",
       "      <td>0</td>\n",
       "      <td>0</td>\n",
       "      <td>...</td>\n",
       "      <td>0</td>\n",
       "      <td>0</td>\n",
       "      <td>0</td>\n",
       "      <td>0</td>\n",
       "      <td>0</td>\n",
       "      <td>0</td>\n",
       "      <td>0</td>\n",
       "      <td>0</td>\n",
       "      <td>0</td>\n",
       "      <td>0</td>\n",
       "    </tr>\n",
       "  </tbody>\n",
       "</table>\n",
       "<p>28 rows × 28 columns</p>\n",
       "</div>"
      ],
      "text/plain": [
       "    0    1    2    3    4    5    6    7    8    9   ...   18   19   20   21  \\\n",
       "0    0    0    0    0    0    0    0    0    0    0  ...    0    0    0    0   \n",
       "1    0    0    0    0    0    0    0    0    0    0  ...    0    0    0    0   \n",
       "2    0    0    0    0    0    0    0    0    0    0  ...    0    0    0    0   \n",
       "3    0    0    0    0    0    0    0    0    0    0  ...    0    1    4    0   \n",
       "4    0    0    0    0    0    0    0    0    0    0  ...   54    0    0    0   \n",
       "5    0    0    0    0    0    0    0    0    0    0  ...  144  123   23    0   \n",
       "6    0    0    0    0    0    0    0    0    0    0  ...  107  156  161  109   \n",
       "7    0    0    0    0    0    0    0    0    0    0  ...  216  163  127  121   \n",
       "8    0    0    0    0    0    0    0    0    0    1  ...  223  223  215  213   \n",
       "9    0    0    0    0    0    0    0    0    0    0  ...  235  227  224  222   \n",
       "10   0    0    0    0    0    0    0    0    0    0  ...  180  212  210  211   \n",
       "11   0    0    0    0    0    0    0    0    0    1  ...  169  227  208  218   \n",
       "12   0    0    0    0    0    0    0    0    0    0  ...  198  221  215  213   \n",
       "13   0    0    0    0    0    0    0    0    0    4  ...  232  213  218  223   \n",
       "14   0    0    1    4    6    7    2    0    0    0  ...  222  221  216  223   \n",
       "15   0    3    0    0    0    0    0    0    0   62  ...  211  218  224  223   \n",
       "16   0    0    0    0   18   44   82  107  189  228  ...  224  234  176  188   \n",
       "17   0   57  187  208  224  221  224  208  204  214  ...  255  255  221  234   \n",
       "18   3  202  228  224  221  211  211  214  205  205  ...  188  154  191  210   \n",
       "19  98  233  198  210  222  229  229  234  249  220  ...  168  219  221  215   \n",
       "20  75  204  212  204  193  205  211  225  216  185  ...  239  223  218  212   \n",
       "21  48  203  183  194  213  197  185  190  194  192  ...  199  206  186  181   \n",
       "22   0  122  219  193  179  171  183  196  204  210  ...  195  191  198  192   \n",
       "23   0    0   74  189  212  191  175  172  175  181  ...  210  210  211  188   \n",
       "24   2    0    0    0   66  200  222  237  239  242  ...  182  182  181  176   \n",
       "25   0    0    0    0    0    0    0   40   61   44  ...    0    0    0    0   \n",
       "26   0    0    0    0    0    0    0    0    0    0  ...    0    0    0    0   \n",
       "27   0    0    0    0    0    0    0    0    0    0  ...    0    0    0    0   \n",
       "\n",
       "     22   23   24   25   26   27  \n",
       "0     0    0    0    0    0    0  \n",
       "1     0    0    0    0    0    0  \n",
       "2     0    0    0    0    0    0  \n",
       "3     0    0    0    1    1    0  \n",
       "4     1    3    4    0    0    3  \n",
       "5     0    0    0   12   10    0  \n",
       "6    64   23   77  130   72   15  \n",
       "7   122  146  141   88  172   66  \n",
       "8   164  127  123  196  229    0  \n",
       "9   224  221  223  245  173    0  \n",
       "10  213  223  220  243  202    0  \n",
       "11  224  212  226  197  209   52  \n",
       "12  222  220  245  119  167   56  \n",
       "13  234  217  217  209   92    0  \n",
       "14  229  215  218  255   77    0  \n",
       "15  219  215  224  244  159    0  \n",
       "16  250  248  233  238  215    0  \n",
       "17  221  211  220  232  246    0  \n",
       "18  204  209  222  228  225    0  \n",
       "19  217  223  223  224  229   29  \n",
       "20  209  222  220  221  230   67  \n",
       "21  177  172  181  205  206  115  \n",
       "22  176  156  167  177  210   92  \n",
       "23  188  194  192  216  170    0  \n",
       "24  166  168   99   58    0    0  \n",
       "25    0    0    0    0    0    0  \n",
       "26    0    0    0    0    0    0  \n",
       "27    0    0    0    0    0    0  \n",
       "\n",
       "[28 rows x 28 columns]"
      ]
     },
     "execution_count": 6,
     "metadata": {},
     "output_type": "execute_result"
    }
   ],
   "source": [
    "pd.DataFrame(single_image)"
   ]
  },
  {
   "cell_type": "code",
   "execution_count": 7,
   "id": "426d6e75-98c4-40ec-a45d-38d905bfcc30",
   "metadata": {},
   "outputs": [
    {
     "data": {
      "text/plain": [
       "<matplotlib.image.AxesImage at 0x1e30bdd9828>"
      ]
     },
     "execution_count": 7,
     "metadata": {},
     "output_type": "execute_result"
    },
    {
     "data": {
      "image/png": "[encoded data removed]",
      "text/plain": [
       "<Figure size 432x288 with 1 Axes>"
      ]
     },
     "metadata": {
      "needs_background": "light"
     },
     "output_type": "display_data"
    }
   ],
   "source": [
    "plt.imshow(single_image)"
   ]
  },
  {
   "cell_type": "markdown",
   "id": "c3903d76-87f1-43fe-a1b9-9c0f29c7d8e8",
   "metadata": {},
   "source": [
    "### Data Normalization | Normalización\n",
    "\n",
    "A simple scaling, dividing by the max value of the image arrays\n",
    "\n",
    "Escalamiento dividiendo entre el máximo valor en los arreglos de imágenes"
   ]
  },
  {
   "cell_type": "code",
   "execution_count": 8,
   "id": "7059de44-6255-4eec-8d0d-48398907c796",
   "metadata": {},
   "outputs": [
    {
     "data": {
      "text/plain": [
       "255"
      ]
     },
     "execution_count": 8,
     "metadata": {},
     "output_type": "execute_result"
    }
   ],
   "source": [
    "single_image.max()"
   ]
  },
  {
   "cell_type": "code",
   "execution_count": 9,
   "id": "02312a38-92e0-4132-a1a5-f68934fe1c82",
   "metadata": {},
   "outputs": [],
   "source": [
    "x_train = x_train / 255\n",
    "x_test = x_test / 255"
   ]
  },
  {
   "cell_type": "markdown",
   "id": "ab45de9d-24a8-42c0-820d-6e3b0e2047a9",
   "metadata": {},
   "source": [
    "### Reshaping\n",
    "\n",
    "**We need to add one more dimension to let the network know we are dealing with a single color channel because the images are in black and white**\n",
    "\n",
    "Necesitamos agregar una dimensión para que la red sepa que estamos trabajando con un canal simple de color porque las imágenes son en blanco y negro"
   ]
  },
  {
   "cell_type": "code",
   "execution_count": 10,
   "id": "f758584d-c825-43dc-ac6c-2b03e7964640",
   "metadata": {},
   "outputs": [
    {
     "data": {
      "text/plain": [
       "(60000, 28, 28)"
      ]
     },
     "execution_count": 10,
     "metadata": {},
     "output_type": "execute_result"
    }
   ],
   "source": [
    "x_train.shape"
   ]
  },
  {
   "cell_type": "code",
   "execution_count": 11,
   "id": "93366937-6607-45e6-b9b2-4e1039d6f91b",
   "metadata": {},
   "outputs": [
    {
     "data": {
      "text/plain": [
       "(10000, 28, 28)"
      ]
     },
     "execution_count": 11,
     "metadata": {},
     "output_type": "execute_result"
    }
   ],
   "source": [
    "x_test.shape"
   ]
  },
  {
   "cell_type": "code",
   "execution_count": 12,
   "id": "397088e6-470b-4272-bb3e-97c0afe94f11",
   "metadata": {},
   "outputs": [],
   "source": [
    "x_train = x_train.reshape(60000, 28, 28, 1)\n",
    "x_test = x_test.reshape(10000, 28, 28, 1)"
   ]
  },
  {
   "cell_type": "markdown",
   "id": "4764c6e6-b030-495b-8fdd-2ad92be03e17",
   "metadata": {},
   "source": [
    "### One Hot Encoding\n",
    "\n",
    "**Let's make sure Keras knows this is a classification problem transforming the y label into categorical data**\n",
    "\n",
    "Hay que asegurarse que Keras sepa que este es un problema de clasificación transformando y en datos categóricos"
   ]
  },
  {
   "cell_type": "code",
   "execution_count": 13,
   "id": "04ac3a7f-6fc9-437a-bf6c-d67b22a2587b",
   "metadata": {},
   "outputs": [],
   "source": [
    "from tensorflow.keras.utils import to_categorical"
   ]
  },
  {
   "cell_type": "code",
   "execution_count": 14,
   "id": "a1e0a0a3-0a56-467e-b440-791bf60a068b",
   "metadata": {},
   "outputs": [
    {
     "data": {
      "text/plain": [
       "array([9, 0, 0, ..., 3, 0, 5], dtype=uint8)"
      ]
     },
     "execution_count": 14,
     "metadata": {},
     "output_type": "execute_result"
    }
   ],
   "source": [
    "y_train"
   ]
  },
  {
   "cell_type": "code",
   "execution_count": 15,
   "id": "1b494729-d089-4600-989a-e8445d06adb6",
   "metadata": {},
   "outputs": [
    {
     "data": {
      "text/plain": [
       "(60000,)"
      ]
     },
     "execution_count": 15,
     "metadata": {},
     "output_type": "execute_result"
    }
   ],
   "source": [
    "y_train.shape"
   ]
  },
  {
   "cell_type": "code",
   "execution_count": 16,
   "id": "66f6070f-0bd1-4990-8b51-88f22770609f",
   "metadata": {},
   "outputs": [
    {
     "data": {
      "text/plain": [
       "9"
      ]
     },
     "execution_count": 16,
     "metadata": {},
     "output_type": "execute_result"
    }
   ],
   "source": [
    "y_train[0]"
   ]
  },
  {
   "cell_type": "code",
   "execution_count": 17,
   "id": "7d2f3938-f537-462a-a0da-e8f3201095c0",
   "metadata": {},
   "outputs": [],
   "source": [
    "y_cat_train = to_categorical(y_train, 10)\n",
    "y_cat_test = to_categorical(y_test, 10)"
   ]
  },
  {
   "cell_type": "markdown",
   "id": "ad38497a-e85b-4b5e-aad5-4582423e002c",
   "metadata": {},
   "source": [
    "---\n",
    "## Model Training | Entrenamiento del Modelo\n",
    "\n",
    "**A model consisting of:**\n",
    "\n",
    "* 2D Convolutional Layer, filters=32 and kernel_size=(4,4)\n",
    "* Pooling Layer where pool_size = (2,2)\n",
    "\n",
    "* Flatten Layer\n",
    "* Dense Layer (128 Neurons), RELU activation\n",
    "\n",
    "* Final Dense Layer of 10 Neurons with a softmax activation\n",
    "\n",
    "**Compiling parameters: loss='categorical_crossentropy', optimizer='rmsprop', metrics=['accuracy']**"
   ]
  },
  {
   "cell_type": "code",
   "execution_count": 18,
   "id": "a691199b-6eb6-4bb3-935f-424e893c7f0a",
   "metadata": {},
   "outputs": [],
   "source": [
    "from tensorflow.keras.models import Sequential\n",
    "from tensorflow.keras.layers import Conv2D, MaxPool2D, Dense, Dropout, Flatten"
   ]
  },
  {
   "cell_type": "code",
   "execution_count": 19,
   "id": "c22ca06a-bf75-4f91-94fc-3b5eab1aaa2b",
   "metadata": {},
   "outputs": [],
   "source": [
    "model = Sequential()\n",
    "\n",
    "model.add(Conv2D(filters=32, kernel_size=(4,4), input_shape=(28,28,1), activation='relu'))\n",
    "model.add(MaxPool2D(pool_size=(2,2)))\n",
    "\n",
    "model.add(Flatten())\n",
    "\n",
    "model.add(Dense(128, activation='relu'))\n",
    "\n",
    "model.add(Dense(10, activation='softmax'))\n",
    "\n",
    "model.compile(loss='categorical_crossentropy', optimizer='adam', metrics=['accuracy'])"
   ]
  },
  {
   "cell_type": "code",
   "execution_count": 20,
   "id": "fb3071ce-ee75-48fc-8722-8bd5a27b5f4e",
   "metadata": {},
   "outputs": [
    {
     "name": "stdout",
     "output_type": "stream",
     "text": [
      "Epoch 1/8\n",
      "1875/1875 [==============================] - 18s 10ms/step - loss: 0.5382 - accuracy: 0.8118 - val_loss: 0.3306 - val_accuracy: 0.8806\n",
      "Epoch 2/8\n",
      "1875/1875 [==============================] - 19s 10ms/step - loss: 0.2843 - accuracy: 0.8983 - val_loss: 0.2917 - val_accuracy: 0.8947\n",
      "Epoch 3/8\n",
      "1875/1875 [==============================] - 19s 10ms/step - loss: 0.2325 - accuracy: 0.9145 - val_loss: 0.2607 - val_accuracy: 0.9038\n",
      "Epoch 4/8\n",
      "1875/1875 [==============================] - 18s 10ms/step - loss: 0.2017 - accuracy: 0.9246 - val_loss: 0.2612 - val_accuracy: 0.9068\n",
      "Epoch 5/8\n",
      "1875/1875 [==============================] - 18s 10ms/step - loss: 0.1737 - accuracy: 0.9349 - val_loss: 0.2741 - val_accuracy: 0.9046\n",
      "Epoch 6/8\n",
      "1875/1875 [==============================] - 15s 8ms/step - loss: 0.1519 - accuracy: 0.9437 - val_loss: 0.2760 - val_accuracy: 0.9105\n",
      "Epoch 7/8\n",
      "1875/1875 [==============================] - 15s 8ms/step - loss: 0.1308 - accuracy: 0.9509 - val_loss: 0.2759 - val_accuracy: 0.9070\n",
      "Epoch 8/8\n",
      "1875/1875 [==============================] - 16s 9ms/step - loss: 0.1147 - accuracy: 0.9565 - val_loss: 0.3179 - val_accuracy: 0.9006\n"
     ]
    },
    {
     "data": {
      "text/plain": [
       "<tensorflow.python.keras.callbacks.History at 0x1e30b8d92b0>"
      ]
     },
     "execution_count": 20,
     "metadata": {},
     "output_type": "execute_result"
    }
   ],
   "source": [
    "model.fit(x_train, y_cat_train, epochs=8, \n",
    "          validation_data=(x_test, y_cat_test))"
   ]
  },
  {
   "cell_type": "markdown",
   "id": "e96babf3-f92d-42e3-ab58-a833362462d5",
   "metadata": {},
   "source": [
    "---\n",
    "## Performance Evaluation | Evaluación del desempeño"
   ]
  },
  {
   "cell_type": "code",
   "execution_count": 21,
   "id": "b64d5455-43bb-4eac-96ed-a956cd3c1d6c",
   "metadata": {},
   "outputs": [
    {
     "data": {
      "text/html": [
       "<div>\n",
       "<style scoped>\n",
       "    .dataframe tbody tr th:only-of-type {\n",
       "        vertical-align: middle;\n",
       "    }\n",
       "\n",
       "    .dataframe tbody tr th {\n",
       "        vertical-align: top;\n",
       "    }\n",
       "\n",
       "    .dataframe thead th {\n",
       "        text-align: right;\n",
       "    }\n",
       "</style>\n",
       "<table border=\"1\" class=\"dataframe\">\n",
       "  <thead>\n",
       "    <tr style=\"text-align: right;\">\n",
       "      <th></th>\n",
       "      <th>loss</th>\n",
       "      <th>accuracy</th>\n",
       "      <th>val_loss</th>\n",
       "      <th>val_accuracy</th>\n",
       "    </tr>\n",
       "  </thead>\n",
       "  <tbody>\n",
       "    <tr>\n",
       "      <th>0</th>\n",
       "      <td>0.406015</td>\n",
       "      <td>0.855333</td>\n",
       "      <td>0.330587</td>\n",
       "      <td>0.8806</td>\n",
       "    </tr>\n",
       "    <tr>\n",
       "      <th>1</th>\n",
       "      <td>0.278809</td>\n",
       "      <td>0.899200</td>\n",
       "      <td>0.291675</td>\n",
       "      <td>0.8947</td>\n",
       "    </tr>\n",
       "    <tr>\n",
       "      <th>2</th>\n",
       "      <td>0.233602</td>\n",
       "      <td>0.914033</td>\n",
       "      <td>0.260663</td>\n",
       "      <td>0.9038</td>\n",
       "    </tr>\n",
       "    <tr>\n",
       "      <th>3</th>\n",
       "      <td>0.201489</td>\n",
       "      <td>0.924917</td>\n",
       "      <td>0.261188</td>\n",
       "      <td>0.9068</td>\n",
       "    </tr>\n",
       "    <tr>\n",
       "      <th>4</th>\n",
       "      <td>0.176599</td>\n",
       "      <td>0.934217</td>\n",
       "      <td>0.274107</td>\n",
       "      <td>0.9046</td>\n",
       "    </tr>\n",
       "    <tr>\n",
       "      <th>5</th>\n",
       "      <td>0.153543</td>\n",
       "      <td>0.942833</td>\n",
       "      <td>0.276037</td>\n",
       "      <td>0.9105</td>\n",
       "    </tr>\n",
       "    <tr>\n",
       "      <th>6</th>\n",
       "      <td>0.134043</td>\n",
       "      <td>0.950050</td>\n",
       "      <td>0.275908</td>\n",
       "      <td>0.9070</td>\n",
       "    </tr>\n",
       "    <tr>\n",
       "      <th>7</th>\n",
       "      <td>0.118347</td>\n",
       "      <td>0.955300</td>\n",
       "      <td>0.317862</td>\n",
       "      <td>0.9006</td>\n",
       "    </tr>\n",
       "  </tbody>\n",
       "</table>\n",
       "</div>"
      ],
      "text/plain": [
       "       loss  accuracy  val_loss  val_accuracy\n",
       "0  0.406015  0.855333  0.330587        0.8806\n",
       "1  0.278809  0.899200  0.291675        0.8947\n",
       "2  0.233602  0.914033  0.260663        0.9038\n",
       "3  0.201489  0.924917  0.261188        0.9068\n",
       "4  0.176599  0.934217  0.274107        0.9046\n",
       "5  0.153543  0.942833  0.276037        0.9105\n",
       "6  0.134043  0.950050  0.275908        0.9070\n",
       "7  0.118347  0.955300  0.317862        0.9006"
      ]
     },
     "execution_count": 21,
     "metadata": {},
     "output_type": "execute_result"
    }
   ],
   "source": [
    "metrics = pd.DataFrame(model.history.history)\n",
    "metrics"
   ]
  },
  {
   "cell_type": "code",
   "execution_count": 22,
   "id": "5bf8bb28-6d71-4f92-97a6-95cf5a036194",
   "metadata": {},
   "outputs": [
    {
     "data": {
      "text/plain": [
       "Index(['loss', 'accuracy', 'val_loss', 'val_accuracy'], dtype='object')"
      ]
     },
     "execution_count": 22,
     "metadata": {},
     "output_type": "execute_result"
    }
   ],
   "source": [
    "metrics.columns"
   ]
  },
  {
   "cell_type": "code",
   "execution_count": 23,
   "id": "7f043920-1960-4f15-a486-e1f7dceafb57",
   "metadata": {},
   "outputs": [
    {
     "data": {
      "text/plain": [
       "<matplotlib.axes._subplots.AxesSubplot at 0x1e30b924588>"
      ]
     },
     "execution_count": 23,
     "metadata": {},
     "output_type": "execute_result"
    },
    {
     "data": {
      "image/png": "[encoded data removed]",
      "text/plain": [
       "<Figure size 432x288 with 1 Axes>"
      ]
     },
     "metadata": {
      "needs_background": "light"
     },
     "output_type": "display_data"
    }
   ],
   "source": [
    "metrics[['loss', 'val_loss']].plot()"
   ]
  },
  {
   "cell_type": "code",
   "execution_count": 24,
   "id": "ba87164a-eed8-4681-a6ee-aeea084f93ac",
   "metadata": {},
   "outputs": [
    {
     "data": {
      "text/plain": [
       "<matplotlib.axes._subplots.AxesSubplot at 0x1e331a349b0>"
      ]
     },
     "execution_count": 24,
     "metadata": {},
     "output_type": "execute_result"
    },
    {
     "data": {
      "image/png": "[encoded data removed]",
      "text/plain": [
       "<Figure size 432x288 with 1 Axes>"
      ]
     },
     "metadata": {
      "needs_background": "light"
     },
     "output_type": "display_data"
    }
   ],
   "source": [
    "metrics[['accuracy', 'val_accuracy']].plot()"
   ]
  },
  {
   "cell_type": "code",
   "execution_count": 25,
   "id": "45c26613-215a-470d-979c-da351d9e4a4f",
   "metadata": {},
   "outputs": [],
   "source": [
    "from sklearn.metrics import classification_report, confusion_matrix"
   ]
  },
  {
   "cell_type": "code",
   "execution_count": 26,
   "id": "bd49741c-784f-4f5d-ad3e-56ab0fe9c432",
   "metadata": {},
   "outputs": [],
   "source": [
    "predictions = np.argmax(model.predict(x_test), axis=-1)"
   ]
  },
  {
   "cell_type": "code",
   "execution_count": 27,
   "id": "ff6414c3-9a82-493e-81c2-733e16bdf255",
   "metadata": {},
   "outputs": [
    {
     "name": "stdout",
     "output_type": "stream",
     "text": [
      "              precision    recall  f1-score   support\n",
      "\n",
      "           0       0.89      0.82      0.85      1000\n",
      "           1       0.96      0.99      0.98      1000\n",
      "           2       0.92      0.73      0.81      1000\n",
      "           3       0.94      0.87      0.90      1000\n",
      "           4       0.86      0.83      0.84      1000\n",
      "           5       0.98      0.99      0.99      1000\n",
      "           6       0.62      0.86      0.72      1000\n",
      "           7       0.97      0.98      0.97      1000\n",
      "           8       0.99      0.98      0.98      1000\n",
      "           9       0.98      0.97      0.97      1000\n",
      "\n",
      "    accuracy                           0.90     10000\n",
      "   macro avg       0.91      0.90      0.90     10000\n",
      "weighted avg       0.91      0.90      0.90     10000\n",
      "\n"
     ]
    }
   ],
   "source": [
    "print(classification_report(y_test, predictions))"
   ]
  },
  {
   "cell_type": "markdown",
   "id": "f4fffaa7-4caa-4914-adfb-d6f909f318e0",
   "metadata": {},
   "source": [
    "---\n",
    "## Prediction on a new image\n",
    "\n",
    "**Predicción sobre una nueva imagen**"
   ]
  },
  {
   "cell_type": "code",
   "execution_count": 29,
   "id": "ea1b07f8-adce-4120-a6e9-6160db7d74b3",
   "metadata": {},
   "outputs": [
    {
     "data": {
      "text/plain": [
       "(28, 28, 1)"
      ]
     },
     "execution_count": 29,
     "metadata": {},
     "output_type": "execute_result"
    }
   ],
   "source": [
    "x_test[250].shape"
   ]
  },
  {
   "cell_type": "code",
   "execution_count": 35,
   "id": "e8ee8bea-dfc5-410d-a58b-855494e5368a",
   "metadata": {},
   "outputs": [],
   "source": [
    "new_image = x_test[350]"
   ]
  },
  {
   "cell_type": "code",
   "execution_count": 36,
   "id": "24984641-2d37-4cac-915a-d247e05d5da3",
   "metadata": {},
   "outputs": [],
   "source": [
    "new_image = new_image.reshape(28,28)"
   ]
  },
  {
   "cell_type": "code",
   "execution_count": 40,
   "id": "13f89c75-5355-4e8c-a746-7647d9e1191d",
   "metadata": {},
   "outputs": [
    {
     "data": {
      "text/plain": [
       "<matplotlib.image.AxesImage at 0x1e326a4d6a0>"
      ]
     },
     "execution_count": 40,
     "metadata": {},
     "output_type": "execute_result"
    },
    {
     "data": {
      "image/png": "[encoded data removed]",
      "text/plain": [
       "<Figure size 432x288 with 1 Axes>"
      ]
     },
     "metadata": {
      "needs_background": "light"
     },
     "output_type": "display_data"
    }
   ],
   "source": [
    "plt.imshow(new_image, cmap='Greys')"
   ]
  },
  {
   "cell_type": "code",
   "execution_count": 41,
   "id": "14a9c2c1-1039-4c7a-b8dd-817d206c1ed9",
   "metadata": {},
   "outputs": [
    {
     "data": {
      "text/plain": [
       "1"
      ]
     },
     "execution_count": 41,
     "metadata": {},
     "output_type": "execute_result"
    }
   ],
   "source": [
    "y_test[350]"
   ]
  },
  {
   "cell_type": "code",
   "execution_count": 42,
   "id": "7764036c-6804-40fe-829f-74ed9b8dac13",
   "metadata": {},
   "outputs": [
    {
     "data": {
      "text/plain": [
       "array([1], dtype=int64)"
      ]
     },
     "execution_count": 42,
     "metadata": {},
     "output_type": "execute_result"
    }
   ],
   "source": [
    "np.argmax(model.predict(new_image.reshape(1,28,28,1)), axis=-1)"
   ]
  },
  {
   "cell_type": "markdown",
   "id": "0e6a8aec-a891-47f3-8935-fab716d92758",
   "metadata": {},
   "source": [
    "# Model predicted accurately\n",
    "\n",
    "**El modelo hizo una predicción precisa**"
   ]
  },
  {
   "cell_type": "code",
   "execution_count": null,
   "id": "b33e8dfb-a4fa-4503-9bb2-73ca1eecd090",
   "metadata": {},
   "outputs": [],
   "source": []
  }
 ],
 "metadata": {
  "kernelspec": {
   "display_name": "Python 3",
   "language": "python",
   "name": "python3"
  },
  "language_info": {
   "codemirror_mode": {
    "name": "ipython",
    "version": 3
   },
   "file_extension": ".py",
   "mimetype": "text/x-python",
   "name": "python",
   "nbconvert_exporter": "python",
   "pygments_lexer": "ipython3",
   "version": "3.6.9"
  }
 },
 "nbformat": 4,
 "nbformat_minor": 5
}
